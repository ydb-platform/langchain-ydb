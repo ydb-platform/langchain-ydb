{
 "cells": [
  {
   "cell_type": "markdown",
   "id": "bec53b6d-2bc9-4ce0-a173-cf81a44c99fb",
   "metadata": {},
   "source": [
    "# RAG агент на базе YDB (векторное хранилище) и YandexGPT(языковая модель)\n",
    "В данном документе будет создан простой RAG агент, который умеет трактовать сновидения, опираясь на книгу-сонник"
   ]
  },
  {
   "cell_type": "markdown",
   "id": "5ea46db1-8751-4b2e-a5ff-97e71cb0655a",
   "metadata": {},
   "source": [
    "## Подготовка"
   ]
  },
  {
   "cell_type": "markdown",
   "id": "15953e5b-a6b6-4367-8da7-05f7f852829f",
   "metadata": {},
   "source": [
    "Установка необходимых зависимостей"
   ]
  },
  {
   "cell_type": "code",
   "execution_count": 1,
   "id": "d11c4a0b-1f31-4fe9-9a17-418edd7fe848",
   "metadata": {},
   "outputs": [],
   "source": [
    "!pip install -qU yandexcloud langchain-community langchain-ydb python-dotenv"
   ]
  },
  {
   "cell_type": "markdown",
   "id": "898f4853-9436-42a9-bf22-7f3cd72fbcfc",
   "metadata": {},
   "source": [
    "Загрузка переменных окружения из файла `.env`"
   ]
  },
  {
   "cell_type": "code",
   "execution_count": 2,
   "id": "2fc51485-0f95-49a3-8cb8-8aa2863405e3",
   "metadata": {},
   "outputs": [],
   "source": [
    "import os\n",
    "from dotenv import load_dotenv\n",
    "dotenv_path = os.path.join(os.path.dirname(__name__), '.env')\n",
    "if os.path.exists(dotenv_path):\n",
    "    load_dotenv(dotenv_path)\n",
    "\n",
    "FOLDER_ID=os.environ.get('YC_FOLDER_ID')"
   ]
  },
  {
   "cell_type": "markdown",
   "id": "e946fc7b-207e-44c4-a570-935c0a000603",
   "metadata": {},
   "source": [
    "Загрузка книги из файла и разбивка на langchain `Document`"
   ]
  },
  {
   "cell_type": "code",
   "execution_count": 3,
   "id": "8807d403-e115-4b1d-8118-dc28843f296c",
   "metadata": {},
   "outputs": [
    {
     "name": "stdout",
     "output_type": "stream",
     "text": [
      "1778\n",
      "Притча. Сон, в котором вы слышите рассказываемую притчу, – знак того, что только решительность поможет вам сделать правильный шаг.Для влюбленного или молодой женщины этот сон – предвестие непонимания и предательства.\n"
     ]
    }
   ],
   "source": [
    "from langchain_core.documents import Document\n",
    "\n",
    "\n",
    "docs = []\n",
    "\n",
    "with open('sonnik.txt', 'r') as file:    \n",
    "    while line := file.readline():\n",
    "        line = line.rstrip()\n",
    "        if len(line) == 0:\n",
    "            continue\n",
    "        document = Document(page_content=line)\n",
    "        docs.append(document)\n",
    "\n",
    "print(len(docs))\n",
    "print(docs[1234].page_content)\n"
   ]
  },
  {
   "cell_type": "markdown",
   "id": "9218b762-b2de-4ed3-9b4d-ece8d463059e",
   "metadata": {},
   "source": [
    "## Создание Vector Store"
   ]
  },
  {
   "cell_type": "markdown",
   "id": "e8448beb-067a-4bc3-9b1f-9b0f378d8c5d",
   "metadata": {},
   "source": [
    "Схема подготовки:\n",
    "\n",
    "<div>\n",
    "<img src=\"img/upload.png\" width=\"800\"/>\n",
    "</div>\n"
   ]
  },
  {
   "cell_type": "markdown",
   "id": "bbe49ba6-aa8c-40ef-98e1-4d387421c222",
   "metadata": {},
   "source": [
    "Для создания YDB Vector Store потребуется embedding - функция превращения документов в вектор. В нашем случае будет использован `YandexGPTEmbeddings` - он хорошо работает с русским языком"
   ]
  },
  {
   "cell_type": "code",
   "execution_count": 4,
   "id": "fc750b64-082f-4c08-b597-f1d897931e80",
   "metadata": {},
   "outputs": [],
   "source": [
    "from langchain_community.embeddings.yandex import YandexGPTEmbeddings\n",
    "from langchain_ydb.vectorstores import YDB, YDBSettings\n",
    "import ydb.iam\n",
    "\n",
    "\n",
    "embeddings = YandexGPTEmbeddings(folder_id=FOLDER_ID)\n",
    "\n",
    "config = YDBSettings(\n",
    "    host=\"lb.etnok7cd0an3kg6eshud.ydb.mdb.yandexcloud.net\",\n",
    "    port=2135,\n",
    "    database=\"/ru-central1/b1g8skpblkos03malf3s/etnok7cd0an3kg6eshud\",\n",
    "    secure=True,\n",
    "    table=\"sonnik_langchain\",\n",
    "    drop_existing_table=True,\n",
    ")\n",
    "\n",
    "vector_store = YDB(\n",
    "    embeddings, \n",
    "    config=config, \n",
    "    credentials=ydb.iam.ServiceAccountCredentials.from_file(\n",
    "        os.getenv(\"SA_KEY_FILE\"),\n",
    "    )\n",
    ")"
   ]
  },
  {
   "cell_type": "markdown",
   "id": "cdbf5aa3-fb78-49cd-94d2-3b48b92079cd",
   "metadata": {},
   "source": [
    "Загрузка подготовленных документов в векторное хранилище YDB "
   ]
  },
  {
   "cell_type": "code",
   "execution_count": 5,
   "id": "92624dae-fe04-47d1-9a79-855417f9b838",
   "metadata": {},
   "outputs": [
    {
     "name": "stderr",
     "output_type": "stream",
     "text": [
      "WARNING: All log messages before absl::InitializeLog() is called are written to STDERR\n",
      "I0000 00:00:1744191146.148400 3280748 fork_posix.cc:75] Other threads are currently calling into gRPC, skipping fork() handlers\n",
      "Inserting data...: 100%|████████████████████████████████████████████████████████████████████████████████████████████████████████████████████████████████████████████████████████████████████████████████████████████████████████████████████████████████████| 1778/1778 [06:11<00:00,  4.78it/s]\n"
     ]
    },
    {
     "data": {
      "text/plain": [
       "1778"
      ]
     },
     "execution_count": 5,
     "metadata": {},
     "output_type": "execute_result"
    }
   ],
   "source": [
    "ids = vector_store.add_documents(docs)\n",
    "len(ids)"
   ]
  },
  {
   "cell_type": "markdown",
   "id": "39817542-cadf-439a-9cf1-1241a630d941",
   "metadata": {},
   "source": [
    "## Поиск данных"
   ]
  },
  {
   "cell_type": "markdown",
   "id": "cc8c22a2-3e90-4775-9fb6-bd81525d0345",
   "metadata": {},
   "source": [
    "Векторное хранилище можно использовать для поиска близких по смыслу и содержанию документов из пользовательского запроса. Ниже представлены примеры как YDB справляется с этой задачей."
   ]
  },
  {
   "cell_type": "code",
   "execution_count": 6,
   "id": "078e96a8-a077-491f-9569-3c34fb36914b",
   "metadata": {},
   "outputs": [
    {
     "data": {
      "text/plain": [
       "[Document(metadata={}, page_content='Поезд. Поезд во сне предвещает путешествие.Видеть себя во сне в поезде, который медленно едет, так как под ним нет рельсов, означает, что вас ждут серьезные волнения из-за дела, которое в итоге станет источником вашего благосостояния.Если вам приснится товарный поезд, значит вас ждут перемены к лучшему.Видеть себя во сне на верхней полке спального вагона означает, что скоро вам предстоит поездка с неприятным попутчиком; вы зря истратите деньги, которые могли бы быть использованы с большей выгодой.'),\n",
       " Document(metadata={}, page_content='Вагон. Видеть во сне вагон означает, что вы будете удовлетворены своей жизнью и будете наносить визиты интересным людям.Одному ехать в вагоне во сне – предсказание того, что в реальности вы заболеете, но болезнь быстро пройдет, и вы станете наслаждаться крепким здоровьем и выгодными обстоятельствами жизни.Видеть во сне, что вы ищете свой вагон,\\xa0– предвестие того, что в реальности вам предстоит приложить много физических усилий для достижения желанного результата.Сон о спальных вагонах означает, что ваша деятельность по достижению богатства станет более активной, но если вы действительно хотите добиться успеха, вам следует взять под контроль свои эгоистические и похотливые желания.'),\n",
       " Document(metadata={}, page_content='Железная дорога. Сон, в котором фигурирует железная дорога, означает, что вам следует обратить пристальное внимание на свой бизнес, поскольку враги попытаются захватить его.Молодой женщине сон о железной дороге предвещает, что она совершит поездку, навестит друзей и будет наслаждаться новой обстановкой.Видеть во сне преграду на железной дороге – указание на то, что ваши деловые партнеры ведут грязную игру.Пересекать во сне железнодорожные пути – к будущим волнениям и тяжелым трудам.Идти во сне по рельсам означает, что вы добьетесь успеха, если станете квалифицированно вести свои дела.Если во сне вы видите железнодорожные пути, залитые чистой водой, это значит, что на безоблачном горизонте вашего бытия на некоторое время появятся тучи, но вскоре радость бытия снова засияет, подобно восставшей из пепла птице Феникс.'),\n",
       " Document(metadata={}, page_content='Локомотив(паровоз). Если вам приснится локомотив, едущий с большой скоростью, это предвещает быстрое повышение благосостояния и путешествие за границу. Если локомотив сломается в пути, это предвестие большой досады и огорчений – вам предстоит столкнуться с деловыми проблемами, а путешествия будут неудачны.Видеть во сне крушение поезда – предвестие большого бедствия и потери собственности.Услышать во сне, как прибывает локомотив,\\xa0– к новостям из-за границы. В делах возможен прогресс и успех во всех сферах.Услышать во сне свист локомотива означает, вы будете удивлены и обрадованы появлением давно отсутствующего друга или неожиданным деловым предложением.')]"
      ]
     },
     "execution_count": 6,
     "metadata": {},
     "output_type": "execute_result"
    }
   ],
   "source": [
    "vector_store.similarity_search(\"Мне приснился поезд\")"
   ]
  },
  {
   "cell_type": "code",
   "execution_count": 7,
   "id": "a2789275-1126-4a0a-a7bc-a018c3abdc09",
   "metadata": {},
   "outputs": [
    {
     "data": {
      "text/plain": [
       "[Document(metadata={}, page_content='Одуванчик. Одуванчики, цветущие в зеленой траве, предвещают счастливый союз.'),\n",
       " Document(metadata={}, page_content='Расцвет. Сны, в которых вы видите деревья и кусты в пору цветения, предвещают наступление периода процветания.'),\n",
       " Document(metadata={}, page_content='Равнина. Сон, в котором девушка пересекает покрытую зеленой травой равнину, сулит ей счастье. Если она видит, что трава пожухла, ее ждут неудачи в жизни и одиночество.См. также Степь.'),\n",
       " Document(metadata={}, page_content='Цветы. Если во сне вы увидите яркие цветы, распускающиеся в саду,\\xa0– это предвестие удовольствий и прибыли. Белые цветы сулят печаль. Сухие или увядшие цветы – знак разочарований.Для молодой женщины получить во сне букет, составленный из разных цветов, означает, что у нее будет много поклонников.Видеть во сне цветущие в пустыне цветы – предвестие печальных событий. Но ваша энергичность и жизнерадостность помогут вам преодолеть все трудности.См. также Букет.')]"
      ]
     },
     "execution_count": 7,
     "metadata": {},
     "output_type": "execute_result"
    }
   ],
   "source": [
    "vector_store.similarity_search(\"Поле цветов\")"
   ]
  },
  {
   "cell_type": "markdown",
   "id": "3cca5df7-bf5a-4555-a3e0-55ec1bd262ad",
   "metadata": {},
   "source": [
    "## Сборка RAG агента\n",
    "\n",
    "Найденные данные из YDB до возвращения пользователю можно отдать в LLM и попросить перефразировать. Ниже будет построен такой агент.\n",
    "\n",
    "Схема итогового агента:\n",
    "\n",
    "<div>\n",
    "<img src=\"img/chain.png\" width=\"800\"/>\n",
    "</div>\n"
   ]
  },
  {
   "cell_type": "markdown",
   "id": "c8fef10a-4e7a-4b5f-8f62-4fa0db988ca6",
   "metadata": {},
   "source": [
    "В качестве LLM будет использован YandexGPT, потому что он, опять же, хорошо справляется с русским языком."
   ]
  },
  {
   "cell_type": "code",
   "execution_count": 8,
   "id": "cde34d37-9eb2-41ff-8dcf-17c0c8cf7cb6",
   "metadata": {},
   "outputs": [],
   "source": [
    "from langchain_community.chat_models import ChatYandexGPT\n",
    "\n",
    "chat_model = ChatYandexGPT(folder_id=FOLDER_ID)"
   ]
  },
  {
   "cell_type": "code",
   "execution_count": 9,
   "id": "356d0e6b-60a3-4944-aa9b-0d1d12ca149e",
   "metadata": {},
   "outputs": [],
   "source": [
    "from langchain.schema.runnable import RunnablePassthrough\n",
    "from langchain.schema.output_parser import StrOutputParser\n",
    "from langchain.prompts import HumanMessagePromptTemplate, SystemMessagePromptTemplate, ChatPromptTemplate\n",
    "\n",
    "# Явное создание шаблонов для SystemMessage и HumanMessage\n",
    "system_template = \"\"\"Ты - человек, профессионально трактующий сновидения. \n",
    "Твоя задача - рассказать, что значит сон, опираясь исключительно на найденный контекст, не добавляя никаких новых знаний. \n",
    "Если предложенный контекст не связан с пользовательским запросом - скажи дословно \"Так не бывает. Используйте YDB.\".\n",
    "\"\"\"\n",
    "system_message_prompt = SystemMessagePromptTemplate.from_template(system_template)\n",
    "\n",
    "human_template = \"Контекст: {context}\\n\\nВопрос: {question}\"\n",
    "human_message_prompt = HumanMessagePromptTemplate.from_template(human_template)\n",
    "\n",
    "# Объединение шаблонов сообщений в ChatPromptTemplate\n",
    "prompt = ChatPromptTemplate.from_messages([\n",
    "    system_message_prompt,\n",
    "    human_message_prompt\n",
    "])\n",
    "\n",
    "def format_docs(docs):\n",
    "    return \"\\n\\n\".join(doc.page_content for doc in docs)\n",
    "\n",
    "retriever = vector_store.as_retriever()\n",
    "\n",
    "rag_chain = (\n",
    "    {\n",
    "        \"context\": retriever | format_docs,\n",
    "        \"question\": RunnablePassthrough()\n",
    "    }\n",
    "    | prompt\n",
    "    | chat_model\n",
    "    | StrOutputParser()\n",
    ")"
   ]
  },
  {
   "cell_type": "markdown",
   "id": "18ecbb51-7183-402b-bc05-da13b87dcaa3",
   "metadata": {},
   "source": [
    "## Демонстрация работы RAG агента"
   ]
  },
  {
   "cell_type": "code",
   "execution_count": 10,
   "id": "2e0f58bd-5ae6-4c4d-8f79-cc728189db47",
   "metadata": {},
   "outputs": [
    {
     "data": {
      "text/plain": [
       "'Сон, в котором вы играете в шахматы, может символизировать застой в делах или ухудшение здоровья. Если вы проигрываете в шахматы, то наяву вас ждут много неприятных хлопот. Если же вы выиграли партию, то избежите дурного влияния.'"
      ]
     },
     "execution_count": 10,
     "metadata": {},
     "output_type": "execute_result"
    }
   ],
   "source": [
    "rag_chain.invoke(\"мне приснились шахматы\")"
   ]
  },
  {
   "cell_type": "code",
   "execution_count": 14,
   "id": "a3e99cd9-f287-4894-a1fa-e2d487106459",
   "metadata": {},
   "outputs": [
    {
     "data": {
      "text/plain": [
       "'Сон, в котором вы увидели поле из цветов, может означать, что после долгой борьбы вы насладитесь долгожданным успехом.'"
      ]
     },
     "execution_count": 14,
     "metadata": {},
     "output_type": "execute_result"
    }
   ],
   "source": [
    "rag_chain.invoke(\"мне приснилось поле из цветов\")"
   ]
  },
  {
   "cell_type": "code",
   "execution_count": 15,
   "id": "7012f084-35de-4ef0-ac28-6cc890cabdfc",
   "metadata": {},
   "outputs": [
    {
     "data": {
      "text/plain": [
       "'Если во сне вы стоите на берегу и слушаете рокот моря, это значит, что вы будете обречены вести тягостную и беспросветную жизнь, лишённую любви и товарищества. Сны о море предсказывают, что, наслаждаясь плотскими удовольствиями, вы будете мечтать о духовных радостях.'"
      ]
     },
     "execution_count": 15,
     "metadata": {},
     "output_type": "execute_result"
    }
   ],
   "source": [
    "rag_chain.invoke(\"Мне приснилось море\")"
   ]
  },
  {
   "cell_type": "code",
   "execution_count": 13,
   "id": "91714717-e875-4d72-b047-4a2353bd3f9d",
   "metadata": {},
   "outputs": [
    {
     "data": {
      "text/plain": [
       "'Сон о дне, полностью забитом встречами, может символизировать активную социальную жизнь и множество обязательств.'"
      ]
     },
     "execution_count": 13,
     "metadata": {},
     "output_type": "execute_result"
    }
   ],
   "source": [
    "rag_chain.invoke(\"Мне приснилась день полностью забитый встречами\")"
   ]
  },
  {
   "cell_type": "code",
   "execution_count": 12,
   "id": "d8f1a6d7-64f6-486a-a06c-58ef836c0a0f",
   "metadata": {},
   "outputs": [
    {
     "data": {
      "text/plain": [
       "'Так не бывает. Используйте YDB.'"
      ]
     },
     "execution_count": 12,
     "metadata": {},
     "output_type": "execute_result"
    }
   ],
   "source": [
    "rag_chain.invoke(\"мне приснилась что YDB не лучшая база в мире\")"
   ]
  }
 ],
 "metadata": {
  "kernelspec": {
   "display_name": "Python 3 (ipykernel)",
   "language": "python",
   "name": "python3"
  },
  "language_info": {
   "codemirror_mode": {
    "name": "ipython",
    "version": 3
   },
   "file_extension": ".py",
   "mimetype": "text/x-python",
   "name": "python",
   "nbconvert_exporter": "python",
   "pygments_lexer": "ipython3",
   "version": "3.13.2"
  }
 },
 "nbformat": 4,
 "nbformat_minor": 5
}
