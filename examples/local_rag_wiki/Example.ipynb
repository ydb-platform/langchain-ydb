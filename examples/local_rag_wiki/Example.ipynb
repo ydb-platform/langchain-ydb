{
 "cells": [
  {
   "cell_type": "markdown",
   "id": "51da621d-8238-41dc-88cc-3f426fee4f80",
   "metadata": {},
   "source": [
    "## Prerequisites\n",
    "To run this example, you should:\n",
    "1. Install [ollama](https://ollama.com/download)\n",
    "2. Start YDB via [docker-compose file](../../docker-compose.yml)"
   ]
  },
  {
   "cell_type": "code",
   "execution_count": 1,
   "id": "be653a46-2501-449c-a543-f4cdaf1a9055",
   "metadata": {},
   "outputs": [],
   "source": [
    "!pip install -qU pip\n",
    "import os\n",
    "os.environ[\"GRPC_VERBOSITY\"] = \"NONE\"\n",
    "os.environ[\"TOKENIZERS_PARALLELISM\"] = \"false\""
   ]
  },
  {
   "cell_type": "markdown",
   "id": "7ab71044-617e-420a-9b7e-04125fcd923d",
   "metadata": {},
   "source": [
    "## Prepare dataset"
   ]
  },
  {
   "cell_type": "markdown",
   "id": "ddf8d888-04c2-4086-b775-43694fb43da6",
   "metadata": {},
   "source": [
    "Real dataset from [huggingface](https://huggingface.co/datasets/Cohere/wikipedia-22-12-simple-embeddings/viewer/default/train?p=2&views%5B%5D=train): "
   ]
  },
  {
   "cell_type": "code",
   "execution_count": 2,
   "id": "2a844eac-3ad0-4241-817d-c8c191e38c9d",
   "metadata": {},
   "outputs": [
    {
     "data": {
      "text/plain": [
       "'The 24-hour clock is a way of telling the time in which the day runs from midnight to midnight and is divided into 24 hours, numbered from 0 to 23. It does not use a.m. or p.m. This system is also referred to (only in the US and the English speaking parts of Canada) as military time or (only in the United Kingdom and now very rarely) as continental time. In some parts of the world, it is called railway time. Also, the international standard notation of time (ISO 8601) is based on this format.'"
      ]
     },
     "execution_count": 2,
     "metadata": {},
     "output_type": "execute_result"
    }
   ],
   "source": [
    "!pip install -qU datasets\n",
    "from datasets import load_dataset\n",
    "\n",
    "ds = load_dataset(\"Cohere/wikipedia-22-12-simple-embeddings\")\n",
    "\n",
    "ds[\"train\"][0][\"text\"]"
   ]
  },
  {
   "cell_type": "markdown",
   "id": "164eaa8c-f681-4ece-9161-a026fe3f5d4d",
   "metadata": {},
   "source": [
    "To simplify local example, we will use only a subset from this dataset"
   ]
  },
  {
   "cell_type": "code",
   "execution_count": 3,
   "id": "24a742da-063f-4ade-8b3f-37ea0588c9d3",
   "metadata": {},
   "outputs": [
    {
     "data": {
      "text/plain": [
       "Document(metadata={}, page_content='As early as the 1820s some scientists were discussing climate change: sunlight heats the surface of the Earth, and Joseph Fourier suggested that some of the heat radiated from the surface is trapped by the atmosphere before it can escape into space. This is called the greenhouse effect.')"
      ]
     },
     "execution_count": 3,
     "metadata": {},
     "output_type": "execute_result"
    }
   ],
   "source": [
    "from langchain_core.documents import Document\n",
    "\n",
    "\n",
    "N = 10000\n",
    "documents_to_upload = [Document(ds[\"train\"][i][\"text\"]) for i in range(N)]\n",
    "\n",
    "documents_to_upload[123]"
   ]
  },
  {
   "cell_type": "markdown",
   "id": "ef87b89a-c67b-41f3-bedb-512cc1b0ec68",
   "metadata": {},
   "source": [
    "Fake dataset from local file"
   ]
  },
  {
   "cell_type": "code",
   "execution_count": 4,
   "id": "0bd7dabc-78ef-4a7c-bbcb-fb06b0eb5a07",
   "metadata": {},
   "outputs": [
    {
     "data": {
      "text/plain": [
       "'## Overview\\nYDB is a fictional technology campus city designed as a dedicated space for innovation, work, and everyday life. YDB is located in a neutral zone and operates outside the jurisdiction of any nation-state. Officially, YDB presents itself as an independent innovation territory.\\n\\n## Name origin\\nThe name YDB is not officially decoded. In project documentation, YDB appears as a placeholder code from an international design competition. There are rumors that YDB refers to an internal joke '"
      ]
     },
     "execution_count": 4,
     "metadata": {},
     "output_type": "execute_result"
    }
   ],
   "source": [
    "with open(\"fake_wiki_ydb.md\") as file:\n",
    "    fake_data = file.read()\n",
    "\n",
    "fake_data[:500]"
   ]
  },
  {
   "cell_type": "code",
   "execution_count": 5,
   "id": "84fca891-3085-40b9-bbed-757557ccf2d3",
   "metadata": {},
   "outputs": [
    {
     "data": {
      "text/plain": [
       "Document(metadata={'Header': 'Overview'}, page_content='YDB is a fictional technology campus city designed as a dedicated space for innovation, work, and everyday life. YDB is located in a neutral zone and operates outside the jurisdiction of any nation-state. Officially, YDB presents itself as an independent innovation territory.')"
      ]
     },
     "execution_count": 5,
     "metadata": {},
     "output_type": "execute_result"
    }
   ],
   "source": [
    "from langchain.text_splitter import MarkdownHeaderTextSplitter\n",
    "\n",
    "markdown_header_text_splitter = MarkdownHeaderTextSplitter(\n",
    "    headers_to_split_on=[(\"##\", \"Header\")],\n",
    ")\n",
    "\n",
    "markdown_document_splits = markdown_header_text_splitter.split_text(\n",
    "    fake_data\n",
    ")\n",
    "\n",
    "markdown_document_splits[0]"
   ]
  },
  {
   "cell_type": "markdown",
   "id": "4615f947-4324-4d86-b508-c883af9a0ec9",
   "metadata": {},
   "source": [
    "Let's merge real and fake wiki"
   ]
  },
  {
   "cell_type": "code",
   "execution_count": 6,
   "id": "42d21dc1-88e7-471c-9f21-2b6c9d31e418",
   "metadata": {},
   "outputs": [],
   "source": [
    "documents_to_upload.extend(markdown_document_splits)"
   ]
  },
  {
   "cell_type": "markdown",
   "id": "63e66dde-6c0b-4cb6-8bc2-f800fdfd562a",
   "metadata": {},
   "source": [
    "## Prepare vector store"
   ]
  },
  {
   "cell_type": "markdown",
   "id": "f83603a8-cbf0-4c4c-9b39-4c794d4ba2c7",
   "metadata": {},
   "source": [
    "First of all, we have to create embeddings function. In this example, we will use open-source model from [HuggingFace](https://huggingface.co/sentence-transformers/all-mpnet-base-v2)."
   ]
  },
  {
   "cell_type": "code",
   "execution_count": 7,
   "id": "f55c65d2-72cd-4623-9123-30bb9b6234a4",
   "metadata": {},
   "outputs": [],
   "source": [
    "!pip install -qU langchain-huggingface\n",
    "\n",
    "from langchain_huggingface import HuggingFaceEmbeddings\n",
    "\n",
    "embeddings = HuggingFaceEmbeddings(\n",
    "    model_name=\"sentence-transformers/all-mpnet-base-v2\"\n",
    ")\n"
   ]
  },
  {
   "cell_type": "code",
   "execution_count": 8,
   "id": "9fe58ec9-a47e-4294-ab3e-cb73650e89dd",
   "metadata": {},
   "outputs": [],
   "source": [
    "!pip install -qU langchain-ydb"
   ]
  },
  {
   "cell_type": "markdown",
   "id": "fbe1db8c-d4c0-4fe2-a2c3-be5c311b6f88",
   "metadata": {},
   "source": [
    "Then, let's create YDB vectorstore"
   ]
  },
  {
   "cell_type": "code",
   "execution_count": 13,
   "id": "d70a3f31-455b-4a44-a238-37f670f2ccc2",
   "metadata": {},
   "outputs": [],
   "source": [
    "from langchain_ydb.vectorstores import YDB, YDBSettings\n",
    "\n",
    "vector_store = YDB(\n",
    "    embeddings,\n",
    "    config=YDBSettings(\n",
    "        host=\"localhost\",\n",
    "        port=2136,\n",
    "        database=\"/local\",\n",
    "        table=\"langchain_ydb_local_rag\",\n",
    "        index_enabled=True,\n",
    "        index_config_clusters=64,\n",
    "        drop_existing_table=True,\n",
    "    ),\n",
    ")"
   ]
  },
  {
   "cell_type": "markdown",
   "id": "925aa3ab-b34c-4e1d-a19e-7c560c61d0e7",
   "metadata": {},
   "source": [
    "Finally, let's load prepared documents:"
   ]
  },
  {
   "cell_type": "code",
   "execution_count": 14,
   "id": "6505dffd-2bac-4e26-b5c6-91f207a00e1e",
   "metadata": {},
   "outputs": [
    {
     "name": "stderr",
     "output_type": "stream",
     "text": [
      "Processing batches...: 100%|███████████████████████████████████████████████████████████████████████████████████████████████████████████████████████████████████████████████████████████████████████| 101/101 [01:31<00:00,  1.10it/s]\n"
     ]
    }
   ],
   "source": [
    "ids = vector_store.add_documents(documents_to_upload, batch_size=100)"
   ]
  },
  {
   "cell_type": "markdown",
   "id": "afdce0b6-c3ef-4e24-a652-9d3dac783366",
   "metadata": {},
   "source": [
    "Let's check how this vector store works:"
   ]
  },
  {
   "cell_type": "code",
   "execution_count": 15,
   "id": "f3d60233-91b0-4a46-97a3-c10d8d7dccc6",
   "metadata": {},
   "outputs": [
    {
     "data": {
      "text/plain": [
       "[Document(metadata={}, page_content='A January 2009 Compete.com study ranked Facebook as the most used social networking service by worldwide monthly active users. \"Entertainment Weekly\" put the site on its end-of-the-decade \"best-of\" list. It said, \"How on earth did we stalk our exes, remember our co-workers birthdays, bug our friends, and play a rousing game of Scrabulous before Facebook?\" Quantcast estimates Facebook had 138.9 million monthly different U.S. visitors in May 2011. According to \"Social Media Today\", in April 2010 about 41.6% of the U.S. population had a Facebook account. Facebook\\'s growth started to slow down in some areas. The site lost 7 million active users in the United States and Canada in May 2011 relative to previous statistics.')]"
      ]
     },
     "execution_count": 15,
     "metadata": {},
     "output_type": "execute_result"
    }
   ],
   "source": [
    "vector_store.similarity_search(\"social network\", k=1)"
   ]
  },
  {
   "cell_type": "code",
   "execution_count": 16,
   "id": "d376ee66-9808-41ff-b20b-3fb2614af77b",
   "metadata": {},
   "outputs": [
    {
     "data": {
      "text/plain": [
       "[Document(metadata={'Header': 'Overview'}, page_content='YDB is a fictional technology campus city designed as a dedicated space for innovation, work, and everyday life. YDB is located in a neutral zone and operates outside the jurisdiction of any nation-state. Officially, YDB presents itself as an independent innovation territory.')]"
      ]
     },
     "execution_count": 16,
     "metadata": {},
     "output_type": "execute_result"
    }
   ],
   "source": [
    "vector_store.similarity_search(\"YDB city\", k=1)"
   ]
  },
  {
   "cell_type": "markdown",
   "id": "1b5710e3-af18-4bdc-af2d-694cfb365303",
   "metadata": {},
   "source": [
    "For further use in chain, we should transform this vector store to the retriever interface:"
   ]
  },
  {
   "cell_type": "code",
   "execution_count": 18,
   "id": "dfbdad5b-4d52-4ef1-8092-63e4d34eb528",
   "metadata": {},
   "outputs": [
    {
     "data": {
      "text/plain": [
       "Document(metadata={'Header': 'Overview'}, page_content='YDB is a fictional technology campus city designed as a dedicated space for innovation, work, and everyday life. YDB is located in a neutral zone and operates outside the jurisdiction of any nation-state. Officially, YDB presents itself as an independent innovation territory.')"
      ]
     },
     "execution_count": 18,
     "metadata": {},
     "output_type": "execute_result"
    }
   ],
   "source": [
    "retriever = vector_store.as_retriever()\n",
    "retriever.invoke(\"what is YDB city\")[0]"
   ]
  },
  {
   "cell_type": "markdown",
   "id": "669309e0-e422-45d2-bf93-3d295e7990f6",
   "metadata": {},
   "source": [
    "## Prepare LLM"
   ]
  },
  {
   "cell_type": "markdown",
   "id": "8167d258-e2fb-4a07-a736-f6bf3b18675f",
   "metadata": {},
   "source": [
    "In this example, we will use local hosted LLM by ollama."
   ]
  },
  {
   "cell_type": "code",
   "execution_count": 19,
   "id": "fad16ba2-3d79-447a-92ac-755eb5c38095",
   "metadata": {},
   "outputs": [
    {
     "data": {
      "text/plain": [
       "'Yamnalladyn-Depe (also known as YDB or YD for short) is an archaeological site in modern-day Turkmenistan. The name \"YDB\" originates from the Yamna, Djeitun, and Dereivka cultures of the Eurasian steppes.\\n\\nThis region has yielded some remarkable discoveries about the origins of agriculture and the beginning of settled societies in human history. \\n\\nThe site was dated using different methods, including radiocarbon dating (14C) as well as optically stimulated luminescence (OSL), a method that measures how much light is emitted by minerals when exposed to infrared radiation.\\n\\nExcavations conducted at YDB and other nearby locations have uncovered signs of early agriculture, including the presence of wheat, barley, legumes, and domesticated sheep.'"
      ]
     },
     "execution_count": 19,
     "metadata": {},
     "output_type": "execute_result"
    }
   ],
   "source": [
    "!pip install -qU langchain-ollama\n",
    "\n",
    "from langchain_ollama.llms import OllamaLLM\n",
    "\n",
    "llm = OllamaLLM(model=\"llama3.1\")\n",
    "\n",
    "llm.invoke(\"what is YDB city?\")"
   ]
  },
  {
   "cell_type": "markdown",
   "id": "649303a9-7791-4f40-9216-37187d193f0f",
   "metadata": {},
   "source": [
    "## All Together: RAG chain"
   ]
  },
  {
   "cell_type": "code",
   "execution_count": 22,
   "id": "380a3ad5-e9b0-4657-9d8d-7c29bf9dae7a",
   "metadata": {},
   "outputs": [
    {
     "data": {
      "text/plain": [
       "\"YDB is a fictional technology campus city designed as a dedicated space for innovation, work, and everyday life. It's located in a neutral zone outside the jurisdiction of any nation-state and operates as an independent innovation territory. The city features modular design with interconnected clusters blending residential, work, and research functions.\""
      ]
     },
     "execution_count": 22,
     "metadata": {},
     "output_type": "execute_result"
    }
   ],
   "source": [
    "from langchain.schema.runnable import RunnablePassthrough\n",
    "from langchain.schema.output_parser import StrOutputParser\n",
    "from langchain.prompts import ChatPromptTemplate\n",
    "\n",
    "system_prompt = (\n",
    "    \"Use the given context to answer the question. \"\n",
    "    \"If you don't know the answer, say you don't know. \"\n",
    "    \"Use three sentence maximum and keep the answer concise. \"\n",
    "    \"Context: {context}\"\n",
    ")\n",
    "prompt = ChatPromptTemplate.from_messages(\n",
    "    [\n",
    "        (\"system\", system_prompt),\n",
    "        (\"human\", \"{input}\"),\n",
    "    ]\n",
    ")\n",
    "\n",
    "def format_docs(docs):\n",
    "    return \"\\n\\n\".join(doc.page_content for doc in docs)\n",
    "\n",
    "chain = (\n",
    "    {\n",
    "        \"context\": retriever | format_docs,\n",
    "        \"input\": RunnablePassthrough()\n",
    "    }\n",
    "    | prompt\n",
    "    | llm\n",
    "    | StrOutputParser()\n",
    ")\n",
    "\n",
    "chain.invoke(\"What is YDB city?\")"
   ]
  },
  {
   "cell_type": "code",
   "execution_count": 23,
   "id": "f404db34-eb41-4d5a-b03a-98ef4add1c07",
   "metadata": {},
   "outputs": [
    {
     "data": {
      "text/plain": [
       "\"The currency used in YDB city is YDB credits, which is a native digital currency. It's pegged to system productivity rather than external market values. Exchanges to fiat currencies can be made at licensed kiosks.\""
      ]
     },
     "execution_count": 23,
     "metadata": {},
     "output_type": "execute_result"
    }
   ],
   "source": [
    "chain.invoke(\"What currency is used in YDB city?\")"
   ]
  },
  {
   "cell_type": "code",
   "execution_count": 24,
   "id": "cbd3438c-bde1-4a85-a53e-b3f3cd3e6fd9",
   "metadata": {},
   "outputs": [
    {
     "data": {
      "text/plain": [
       "\"You can exchange your YDB credits for fiat currencies at the licensed kiosks located throughout the city. These kiosks offer conversions to external currencies, providing access to traditional financial systems outside of YDB's internal economy. You don't need to visit a bank or currency exchange office.\""
      ]
     },
     "execution_count": 24,
     "metadata": {},
     "output_type": "execute_result"
    }
   ],
   "source": [
    "chain.invoke(\"Where can I exchange money in YDB city?\")"
   ]
  },
  {
   "cell_type": "code",
   "execution_count": null,
   "id": "1e771ecd-b770-43c1-a5fc-897b3907dc93",
   "metadata": {},
   "outputs": [],
   "source": []
  }
 ],
 "metadata": {
  "kernelspec": {
   "display_name": "Python 3 (ipykernel)",
   "language": "python",
   "name": "python3"
  },
  "language_info": {
   "codemirror_mode": {
    "name": "ipython",
    "version": 3
   },
   "file_extension": ".py",
   "mimetype": "text/x-python",
   "name": "python",
   "nbconvert_exporter": "python",
   "pygments_lexer": "ipython3",
   "version": "3.13.2"
  }
 },
 "nbformat": 4,
 "nbformat_minor": 5
}
