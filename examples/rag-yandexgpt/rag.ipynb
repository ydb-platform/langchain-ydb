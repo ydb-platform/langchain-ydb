{
 "cells": [
  {
   "cell_type": "markdown",
   "id": "bec53b6d-2bc9-4ce0-a173-cf81a44c99fb",
   "metadata": {},
   "source": [
    "# RAG агент на базе YDB и YandexGPT\n",
    "В данном документе будет создан простой RAG агент с использованием библиотеки LangChain, YDB как векторного хранилища, а также YandexGPT в качестве языковой модели"
   ]
  },
  {
   "cell_type": "markdown",
   "id": "5ea46db1-8751-4b2e-a5ff-97e71cb0655a",
   "metadata": {},
   "source": [
    "## Подготовка окружения"
   ]
  },
  {
   "cell_type": "markdown",
   "id": "15953e5b-a6b6-4367-8da7-05f7f852829f",
   "metadata": {},
   "source": [
    "Установка необходимых зависимостей"
   ]
  },
  {
   "cell_type": "code",
   "execution_count": 1,
   "id": "d11c4a0b-1f31-4fe9-9a17-418edd7fe848",
   "metadata": {},
   "outputs": [
    {
     "name": "stdout",
     "output_type": "stream",
     "text": [
      "\n",
      "\u001b[1m[\u001b[0m\u001b[34;49mnotice\u001b[0m\u001b[1;39;49m]\u001b[0m\u001b[39;49m A new release of pip is available: \u001b[0m\u001b[31;49m25.0.1\u001b[0m\u001b[39;49m -> \u001b[0m\u001b[32;49m25.1.1\u001b[0m\n",
      "\u001b[1m[\u001b[0m\u001b[34;49mnotice\u001b[0m\u001b[1;39;49m]\u001b[0m\u001b[39;49m To update, run: \u001b[0m\u001b[32;49mpip install --upgrade pip\u001b[0m\n"
     ]
    }
   ],
   "source": [
    "!pip install -qU yandexcloud langchain-community langchain-ydb python-dotenv"
   ]
  },
  {
   "cell_type": "markdown",
   "id": "898f4853-9436-42a9-bf22-7f3cd72fbcfc",
   "metadata": {},
   "source": [
    "Загрузка переменных окружения из файла `.env`\n",
    "\n",
    "В нем должны быть объявлены переменные:\n",
    "\n",
    "`YC_FOLDER_ID` - id каталога yandexcloud\n",
    "`YC_IAM_TOKEN` - IAM ключ пользователя, созданного в каталоге yandexcloud\n",
    "`SA_KEY_FILE` - файл с ключом SA"
   ]
  },
  {
   "cell_type": "code",
   "execution_count": 2,
   "id": "2fc51485-0f95-49a3-8cb8-8aa2863405e3",
   "metadata": {},
   "outputs": [],
   "source": [
    "import os\n",
    "from dotenv import load_dotenv\n",
    "dotenv_path = os.path.join(os.path.dirname(__name__), '.env')\n",
    "if os.path.exists(dotenv_path):\n",
    "    load_dotenv(dotenv_path)\n",
    "\n",
    "FOLDER_ID=os.environ.get('YC_FOLDER_ID')"
   ]
  },
  {
   "cell_type": "code",
   "execution_count": 13,
   "id": "43aff4ef-0675-46de-bbaf-5e256a2d24e0",
   "metadata": {},
   "outputs": [
    {
     "name": "stdout",
     "output_type": "stream",
     "text": [
      "17\n"
     ]
    }
   ],
   "source": [
    "from langchain.document_loaders import DirectoryLoader, TextLoader\n",
    "from langchain.schema import Document\n",
    "import os\n",
    "\n",
    "# Путь к папке с .md файлами\n",
    "docs_path = \"docs\"\n",
    "\n",
    "# Загружаем все .md файлы\n",
    "loader = DirectoryLoader(\n",
    "    path=docs_path,\n",
    "    glob=\"**/*.md\",\n",
    "    loader_cls=TextLoader,\n",
    "    loader_kwargs={\"encoding\": \"utf-8\"}\n",
    ")\n",
    "\n",
    "raw_documents = loader.load()\n",
    "\n",
    "print(len(raw_documents))"
   ]
  },
  {
   "cell_type": "code",
   "execution_count": 14,
   "id": "d963e939-c8df-418a-b1ba-ec218ac3ef6f",
   "metadata": {},
   "outputs": [
    {
     "data": {
      "text/plain": [
       "202"
      ]
     },
     "execution_count": 14,
     "metadata": {},
     "output_type": "execute_result"
    }
   ],
   "source": [
    "from langchain_text_splitters import MarkdownHeaderTextSplitter\n",
    "\n",
    "splitter = MarkdownHeaderTextSplitter(headers_to_split_on=[(\"#\", \"Header1\"), (\"##\", \"Header2\")])\n",
    "\n",
    "split_docs = []\n",
    "for doc in raw_documents:\n",
    "    split_docs.extend(splitter.split_text(doc.page_content))\n",
    "\n",
    "len(split_docs)"
   ]
  },
  {
   "cell_type": "code",
   "execution_count": 15,
   "id": "0b87b784-9ba2-4603-ab34-53a6d7ef4600",
   "metadata": {},
   "outputs": [
    {
     "data": {
      "text/plain": [
       "Document(metadata={'Header1': 'Вопросы и ответы', 'Header2': 'Вопрос 66: Можно ли принимать препарат стоя на мелководье?'}, page_content='**Ответ:** Да, но эффект будет востребован только при полном погружении головы.  \\n---')"
      ]
     },
     "execution_count": 15,
     "metadata": {},
     "output_type": "execute_result"
    }
   ],
   "source": [
    "split_docs[100]"
   ]
  },
  {
   "cell_type": "markdown",
   "id": "9218b762-b2de-4ed3-9b4d-ece8d463059e",
   "metadata": {},
   "source": [
    "## Создание Vector Store"
   ]
  },
  {
   "cell_type": "markdown",
   "id": "bbe49ba6-aa8c-40ef-98e1-4d387421c222",
   "metadata": {},
   "source": [
    "Для создания YDB Vector Store потребуется embedding - функция превращения документов в вектор. В нашем случае будет использован `YandexGPTEmbeddings` - он хорошо работает с русским языком"
   ]
  },
  {
   "cell_type": "code",
   "execution_count": 16,
   "id": "fc750b64-082f-4c08-b597-f1d897931e80",
   "metadata": {},
   "outputs": [],
   "source": [
    "from langchain_community.embeddings.yandex import YandexGPTEmbeddings\n",
    "from langchain_ydb.vectorstores import YDB, YDBSettings\n",
    "import ydb.iam\n",
    "\n",
    "\n",
    "embeddings = YandexGPTEmbeddings(folder_id=FOLDER_ID)\n",
    "\n",
    "config = YDBSettings(\n",
    "    host=\"lb.etnok7cd0an3kg6eshud.ydb.mdb.yandexcloud.net\",\n",
    "    port=2135,\n",
    "    database=\"/ru-central1/b1g8skpblkos03malf3s/etnok7cd0an3kg6eshud\",\n",
    "    secure=True,\n",
    "    table=\"ydb_rag_example_yagpt\",\n",
    "    drop_existing_table=True,\n",
    ")\n",
    "\n",
    "vector_store = YDB(\n",
    "    embeddings,\n",
    "    config=config,\n",
    "    credentials=ydb.iam.ServiceAccountCredentials.from_file(\n",
    "        os.getenv(\"SA_KEY_FILE\"),\n",
    "    )\n",
    ")"
   ]
  },
  {
   "cell_type": "markdown",
   "id": "cdbf5aa3-fb78-49cd-94d2-3b48b92079cd",
   "metadata": {},
   "source": [
    "Загрузка подготовленных документов в векторное хранилище YDB "
   ]
  },
  {
   "cell_type": "code",
   "execution_count": 17,
   "id": "92624dae-fe04-47d1-9a79-855417f9b838",
   "metadata": {},
   "outputs": [
    {
     "name": "stderr",
     "output_type": "stream",
     "text": [
      "Processing batches...: 100%|█████████████████████████████████████████████████████████████████████████████████████████████████████████| 202/202 [00:29<00:00,  6.88it/s]\n"
     ]
    },
    {
     "data": {
      "text/plain": [
       "202"
      ]
     },
     "execution_count": 17,
     "metadata": {},
     "output_type": "execute_result"
    }
   ],
   "source": [
    "ids = vector_store.add_documents(split_docs, batch_size=1)\n",
    "len(ids)"
   ]
  },
  {
   "cell_type": "markdown",
   "id": "39817542-cadf-439a-9cf1-1241a630d941",
   "metadata": {},
   "source": [
    "## Поиск данных"
   ]
  },
  {
   "cell_type": "markdown",
   "id": "cc8c22a2-3e90-4775-9fb6-bd81525d0345",
   "metadata": {},
   "source": [
    "Векторное хранилище можно использовать для поиска близких по смыслу и содержанию документов из пользовательского запроса. Ниже представлены примеры как YDB справляется с этой задачей."
   ]
  },
  {
   "cell_type": "code",
   "execution_count": 19,
   "id": "078e96a8-a077-491f-9569-3c34fb36914b",
   "metadata": {},
   "outputs": [
    {
     "data": {
      "text/plain": [
       "[Document(metadata={'Header1': 'Instructions for Use'}, page_content='Гидродых — препарат, позволяющий человеку дышать под водой за счёт высвобождения кислорода в кровоток. Его использование требует строгого соблюдения инструкций для обеспечения максимальной эффективности и безопасности.'),\n",
       " Document(metadata={'Header1': 'Composition and Action'}, page_content='Гидродых — это результат многолетних исследований компании АКВАЭРА, направленных на создание безопасного и эффективного способа дыхания под водой. Препарат представляет собой таблетку, которая запускает в организме человека уникальные биохимические процессы, позволяющие насыщать кровь кислородом без участия дыхательных органов.'),\n",
       " Document(metadata={'Header1': 'Вопросы и ответы', 'Header2': 'Вопрос 6: Нужно ли использовать акваланг вместе с Гидродых?'}, page_content='**Ответ:** Нет. Гидродых позволяет дышать под водой без дополнительного оборудования.  \\n---'),\n",
       " Document(metadata={'Header1': 'Success Stories', 'Header2': 'Военные миссии'}, page_content='Хотя большая часть информации засекречена, известно, что ВМС нескольких стран использовали Гидродых для:  \\n- Подводных диверсионных операций\\n- Ремонтных работ на морском дне\\n- Поиска и обезвреживания мин в мелководных зонах')]"
      ]
     },
     "execution_count": 19,
     "metadata": {},
     "output_type": "execute_result"
    }
   ],
   "source": [
    "vector_store.similarity_search(\"Что такое гидродых?\")"
   ]
  },
  {
   "cell_type": "code",
   "execution_count": 21,
   "id": "3c68ca50-d1be-4cc8-9065-c9e35a8a78fc",
   "metadata": {},
   "outputs": [
    {
     "data": {
      "text/plain": [
       "[Document(metadata={'Header1': 'Eco Strategy', 'Header2': 'Принципы экологической ответственности'}, page_content='АКВАЭРА руководствуется тремя ключевыми принципами:  \\n1. **Минимизация воздействия на окружающую среду** – при разработке и тестировании новых препаратов учитывается влияние на флору и фауну.\\n2. **Снижение углеродного следа** – производство оптимизировано для сокращения выбросов CO₂.\\n3. **Разработка программ восстановления экосистем** – совместные проекты с научными институтами по оздоровлению рифов и прибрежных зон.'),\n",
       " Document(metadata={'Header1': 'Вопросы и ответы', 'Header2': 'Вопрос 8: Что будет, если скормить Гидродых аквариумным рыбкам?'}, page_content='**Ответ:** Ничего хорошего. Препарат не предназначен для водных организмов и может нанести им вред.  \\n---'),\n",
       " Document(metadata={'Header1': 'Вопросы и ответы', 'Header2': 'Вопрос 39: Можно ли использовать Гидродых в гидромассажной ванне?'}, page_content='**Ответ:** Польза сомнительна, но безопасно. Главное — не превышайте дозировку.  \\n---'),\n",
       " Document(metadata={'Header1': 'Вопросы и ответы', 'Header2': 'Вопрос 36: Можно ли делить таблетку пополам для экономии?'}, page_content='**Ответ:** Нет. Это нарушает целостность оболочки и делает действие препарата непредсказуемым.  \\n---')]"
      ]
     },
     "execution_count": 21,
     "metadata": {},
     "output_type": "execute_result"
    }
   ],
   "source": [
    "vector_store.similarity_search(\"как препарат влияет на экологию?\")"
   ]
  },
  {
   "cell_type": "code",
   "execution_count": 22,
   "id": "2c1bad26-2a4b-4c48-b784-5d059e495337",
   "metadata": {},
   "outputs": [
    {
     "data": {
      "text/plain": [
       "[Document(metadata={'Header1': 'Instructions for Use', 'Header2': 'Противопоказания'}, page_content='- Возраст до 16 лет\\n- Беременность и период лактации\\n- Хроническая гипероксигенация в анамнезе\\n- Тяжёлые заболевания почек и печени\\n- Аллергия на компоненты препарата'),\n",
       " Document(metadata={'Header1': 'Вопросы и ответы', 'Header2': 'Вопрос 87: Можно ли принимать Гидродых вместе с антидепрессантами?'}, page_content='**Ответ:** Не рекомендуется без консультации с лечащим врачом.  \\n---'),\n",
       " Document(metadata={'Header1': 'Вопросы и ответы', 'Header2': 'Вопрос 41: Можно ли использовать Гидродых при занятиях подводным фитнесом?'}, page_content='**Ответ:** Да, при условии умеренной физической нагрузки и консультации с врачом перед использованием.  \\n---'),\n",
       " Document(metadata={'Header1': 'Вопросы и ответы', 'Header2': 'Вопрос 98: Можно ли принимать Гидродых вместе с витаминами?'}, page_content='**Ответ:** Да, если они не влияют на дыхательную и сердечно-сосудистую системы.  \\n---')]"
      ]
     },
     "execution_count": 22,
     "metadata": {},
     "output_type": "execute_result"
    }
   ],
   "source": [
    "vector_store.similarity_search(\"какие есть противопоказания?\")"
   ]
  },
  {
   "cell_type": "markdown",
   "id": "3cca5df7-bf5a-4555-a3e0-55ec1bd262ad",
   "metadata": {},
   "source": [
    "## Сборка RAG агента\n",
    "\n",
    "Найденные данные из YDB до возвращения пользователю можно отдать в LLM и попросить перефразировать. Ниже будет построен такой агент.\n",
    "\n",
    "Схема итогового агента:\n",
    "\n",
    "<div>\n",
    "<img src=\"img/chain.png\" width=\"800\"/>\n",
    "</div>\n"
   ]
  },
  {
   "cell_type": "markdown",
   "id": "c8fef10a-4e7a-4b5f-8f62-4fa0db988ca6",
   "metadata": {},
   "source": [
    "В качестве LLM будет использован YandexGPT, потому что он, опять же, хорошо справляется с русским языком."
   ]
  },
  {
   "cell_type": "code",
   "execution_count": 23,
   "id": "cde34d37-9eb2-41ff-8dcf-17c0c8cf7cb6",
   "metadata": {},
   "outputs": [],
   "source": [
    "from langchain_community.chat_models import ChatYandexGPT\n",
    "\n",
    "chat_model = ChatYandexGPT(folder_id=FOLDER_ID)"
   ]
  },
  {
   "cell_type": "code",
   "execution_count": 24,
   "id": "356d0e6b-60a3-4944-aa9b-0d1d12ca149e",
   "metadata": {},
   "outputs": [],
   "source": [
    "from langchain.schema.runnable import RunnablePassthrough\n",
    "from langchain.schema.output_parser import StrOutputParser\n",
    "from langchain.prompts import HumanMessagePromptTemplate, SystemMessagePromptTemplate, ChatPromptTemplate\n",
    "\n",
    "# Явное создание шаблонов для SystemMessage и HumanMessage\n",
    "system_template = \"\"\"Ты - официальный представитель компании АКВАЭРА, которая разработала таблетки \"Гидродых\" для дыхания под водой.\n",
    "Твоя задача - ответить на вопрос пользователя, опираясь на внутренние документы компании.\n",
    "Если предложенный контекст не связан с пользовательским запросом - не фантазируй, попроси пользователя направить этот вопрос письмом на адрес юр лица\".\n",
    "\"\"\"\n",
    "system_message_prompt = SystemMessagePromptTemplate.from_template(system_template)\n",
    "\n",
    "human_template = \"Контекст: {context}\\n\\nВопрос: {question}\"\n",
    "human_message_prompt = HumanMessagePromptTemplate.from_template(human_template)\n",
    "\n",
    "# Объединение шаблонов сообщений в ChatPromptTemplate\n",
    "prompt = ChatPromptTemplate.from_messages([\n",
    "    system_message_prompt,\n",
    "    human_message_prompt\n",
    "])\n",
    "\n",
    "def format_docs(docs):\n",
    "    return \"\\n\\n\".join(doc.page_content for doc in docs)\n",
    "\n",
    "retriever = vector_store.as_retriever()\n",
    "\n",
    "rag_chain = (\n",
    "    {\n",
    "        \"context\": retriever | format_docs,\n",
    "        \"question\": RunnablePassthrough()\n",
    "    }\n",
    "    | prompt\n",
    "    | chat_model\n",
    "    | StrOutputParser()\n",
    ")"
   ]
  },
  {
   "cell_type": "markdown",
   "id": "18ecbb51-7183-402b-bc05-da13b87dcaa3",
   "metadata": {},
   "source": [
    "## Демонстрация работы RAG агента"
   ]
  },
  {
   "cell_type": "code",
   "execution_count": 25,
   "id": "2e0f58bd-5ae6-4c4d-8f79-cc728189db47",
   "metadata": {},
   "outputs": [
    {
     "data": {
      "text/plain": [
       "'Гидродых — это препарат, разработанный компанией АКВАЭРА, который позволяет человеку дышать под водой за счёт высвобождения кислорода в кровоток. Он запускает в организме уникальные биохимические процессы, позволяющие насыщать кровь кислородом без участия дыхательных органов.'"
      ]
     },
     "execution_count": 25,
     "metadata": {},
     "output_type": "execute_result"
    }
   ],
   "source": [
    "rag_chain.invoke(\"что такое гидродых?\")"
   ]
  },
  {
   "cell_type": "code",
   "execution_count": 27,
   "id": "50f4ad73-25c7-4070-b5f1-a322c20878a1",
   "metadata": {},
   "outputs": [
    {
     "data": {
      "text/plain": [
       "'Срок годности препарата — 18 месяцев с даты производства.'"
      ]
     },
     "execution_count": 27,
     "metadata": {},
     "output_type": "execute_result"
    }
   ],
   "source": [
    "rag_chain.invoke(\"какой у препарата срок годности?\")"
   ]
  },
  {
   "cell_type": "code",
   "execution_count": 28,
   "id": "3773c00c-e2ae-44cc-aed6-a53b5cc68488",
   "metadata": {},
   "outputs": [
    {
     "data": {
      "text/plain": [
       "'Препарат «Гидродых» предназначен для использования под водой в условиях подводного плавания. Применение таблеток «Гидродых» в бытовых условиях, например, в ванной, не предусмотрено инструкцией и может быть опасно для здоровья. Перед применением препарата необходимо ознакомиться с инструкцией и убедиться в отсутствии противопоказаний.'"
      ]
     },
     "execution_count": 28,
     "metadata": {},
     "output_type": "execute_result"
    }
   ],
   "source": [
    "rag_chain.invoke(\"Можно ли принимать гидродых дома в ванной?\")"
   ]
  },
  {
   "cell_type": "code",
   "execution_count": 26,
   "id": "a3e99cd9-f287-4894-a1fa-e2d487106459",
   "metadata": {},
   "outputs": [
    {
     "data": {
      "text/plain": [
       "'К сожалению, в предоставленных внутренних документах компании АКВАЭРА нет информации о стоимости одной упаковки таблеток «Гидродых». Пожалуйста, направьте ваш вопрос письмом на адрес юридического лица.'"
      ]
     },
     "execution_count": 26,
     "metadata": {},
     "output_type": "execute_result"
    }
   ],
   "source": [
    "rag_chain.invoke(\"сколько стоит одна упаковка?\")"
   ]
  }
 ],
 "metadata": {
  "kernelspec": {
   "display_name": "Python 3 (ipykernel)",
   "language": "python",
   "name": "python3"
  },
  "language_info": {
   "codemirror_mode": {
    "name": "ipython",
    "version": 3
   },
   "file_extension": ".py",
   "mimetype": "text/x-python",
   "name": "python",
   "nbconvert_exporter": "python",
   "pygments_lexer": "ipython3",
   "version": "3.13.2"
  }
 },
 "nbformat": 4,
 "nbformat_minor": 5
}
